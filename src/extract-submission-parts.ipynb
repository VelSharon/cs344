{
 "cells": [
  {
   "cell_type": "code",
   "execution_count": 22,
   "metadata": {},
   "outputs": [],
   "source": [
    "import pathlib\n",
    "import nbformat\n",
    "import nbconvert"
   ]
  },
  {
   "cell_type": "code",
   "execution_count": 30,
   "metadata": {},
   "outputs": [],
   "source": [
    "input_dir = pathlib.Path('../student_data/hw05')\n",
    "output_dir = input_dir / 'u5n3-files'\n",
    "output_dir.mkdir(exist_ok=True)\n",
    "WRITE_NBS = False\n",
    "WRITE_HTML = False"
   ]
  },
  {
   "cell_type": "code",
   "execution_count": 28,
   "metadata": {},
   "outputs": [],
   "source": [
    "exporter = nbconvert.HTMLExporter()\n",
    "#exporter.template_file = 'basic'"
   ]
  },
  {
   "cell_type": "code",
   "execution_count": 33,
   "metadata": {},
   "outputs": [],
   "source": [
    "def check_cell(cell, name):\n",
    "    def log(*a):\n",
    "        print(name, *a)\n",
    "    if 'bias.grad' not in cell['source']:\n",
    "        log(\"Missing bias.grad\")\n",
    "    else:\n",
    "        if 'bias.grad.zero' not in cell['source']:\n",
    "            log(\"Zero the bias grad\")"
   ]
  },
  {
   "cell_type": "code",
   "execution_count": 34,
   "metadata": {},
   "outputs": [
    {
     "name": "stdout",
     "output_type": "stream",
     "text": [
      "Michelle Ferdinands Missing bias.grad\n",
      "Caleb Vredevoogd Missing bias.grad\n",
      "Brea Koenes Missing bias.grad\n",
      "Nathan Wang Missing bias.grad\n",
      "Ben Westerhof Missing bias.grad\n",
      "Valerie Vreugdenhil Missing bias.grad\n",
      "Student missing notebook Richmond Yevudza\n",
      "Braden Weber Missing bias.grad\n"
     ]
    }
   ],
   "source": [
    "def want_cell(cell):\n",
    "    if cell['cell_type'] != 'code':\n",
    "        return False\n",
    "    if '.backward' in cell['source']:\n",
    "        return True\n",
    "    return False\n",
    "    \n",
    "student_dirs = [p for p in input_dir.iterdir() if '_file_' in p.name]\n",
    "for student in student_dirs:\n",
    "    student_name = student.name.split('_', 1)[0]\n",
    "    nb_files = list(student.glob(\"u5n3*.ipynb\"))\n",
    "    if len(nb_files) == 0:\n",
    "        print(\"Student missing notebook\", student_name)\n",
    "        continue\n",
    "    elif len(nb_files) > 1:\n",
    "        print(\"Too many notebooks\", student_name)\n",
    "        continue\n",
    "\n",
    "    nb = nbformat.read(nb_files[0], as_version=nbformat.NO_CONVERT)\n",
    "    cells = [cell for cell in nb['cells'] if want_cell(cell)]\n",
    "    nb.cells = cells\n",
    "    for cell in cells: check_cell(cell, student_name)\n",
    "    if WRITE_NBS:\n",
    "        nbformat.write(nb, output_dir / f'{student_name}.ipynb')\n",
    "    if WRITE_HTML:\n",
    "        html, resources = exporter.from_notebook_node(\n",
    "            nbformat.NotebookNode(dict(nb,\n",
    "                cells=cells)))\n",
    "        with open(output_dir / f'{student_name}.html', 'w') as f:\n",
    "            f.write(html)"
   ]
  },
  {
   "cell_type": "code",
   "execution_count": null,
   "metadata": {},
   "outputs": [],
   "source": []
  }
 ],
 "metadata": {
  "interpreter": {
   "hash": "e8f4b6a4c38f2085446f7f3f791a848eb62f1444c2c1b7234c3e9244444f9b89"
  },
  "kernelspec": {
   "display_name": "Python 3.9.9 ('sp22')",
   "language": "python",
   "name": "python3"
  },
  "language_info": {
   "codemirror_mode": {
    "name": "ipython",
    "version": 3
   },
   "file_extension": ".py",
   "mimetype": "text/x-python",
   "name": "python",
   "nbconvert_exporter": "python",
   "pygments_lexer": "ipython3",
   "version": "3.9.9"
  },
  "orig_nbformat": 4
 },
 "nbformat": 4,
 "nbformat_minor": 2
}
