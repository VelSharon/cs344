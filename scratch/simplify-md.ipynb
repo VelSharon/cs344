{
 "cells": [
  {
   "cell_type": "code",
   "execution_count": null,
   "metadata": {},
   "outputs": [],
   "source": [
    "import re"
   ]
  },
  {
   "cell_type": "code",
   "execution_count": null,
   "metadata": {},
   "outputs": [],
   "source": [
    "clip = !pbpaste"
   ]
  },
  {
   "cell_type": "code",
   "execution_count": null,
   "metadata": {},
   "outputs": [],
   "source": [
    "for line in clip:\n",
    "    if line.startswith('- '):\n",
    "        if len(line) < 100:\n",
    "            # Probably heading\n",
    "            print(\"\\n# \" + line[2:].strip() + \"\\n\")\n",
    "        else:\n",
    "            # Plain paragraph\n",
    "            print(\"\\n\" + line[2:] + \"\\n\")\n",
    "    else:\n",
    "        if line.startswith('\\t'):\n",
    "            print(line[1:])\n",
    "        elif line.startswith('    '):\n",
    "            print(line[4:])\n",
    "        else:\n",
    "            assert False\n"
   ]
  },
  {
   "cell_type": "code",
   "execution_count": null,
   "metadata": {},
   "outputs": [],
   "source": []
  }
 ],
 "metadata": {
  "interpreter": {
   "hash": "e8f4b6a4c38f2085446f7f3f791a848eb62f1444c2c1b7234c3e9244444f9b89"
  },
  "kernelspec": {
   "display_name": "Python 3.9.9 ('sp22')",
   "language": "python",
   "name": "python3"
  },
  "language_info": {
   "codemirror_mode": {
    "name": "ipython",
    "version": 3
   },
   "file_extension": ".py",
   "mimetype": "text/x-python",
   "name": "python",
   "nbconvert_exporter": "python",
   "pygments_lexer": "ipython3",
   "version": "3.9.9"
  },
  "orig_nbformat": 4
 },
 "nbformat": 4,
 "nbformat_minor": 2
}
