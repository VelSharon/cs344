{
 "cells": [
  {
   "cell_type": "markdown",
   "id": "96848edf",
   "metadata": {},
   "source": [
    "# Trace Simple Image Classifier\n",
    "\n",
    "Task: trace and explain the dimensionality of each tensor in a simple image classifier."
   ]
  },
  {
   "cell_type": "markdown",
   "id": "900e7193",
   "metadata": {},
   "source": [
    "## Setup"
   ]
  },
  {
   "cell_type": "code",
   "execution_count": null,
   "id": "699e28f3",
   "metadata": {},
   "outputs": [],
   "source": []
  },
  {
   "cell_type": "code",
   "execution_count": 1,
   "id": "abf51f02",
   "metadata": {},
   "outputs": [],
   "source": [
    "from fastai.vision.all import *\n",
    "from fastbook import *\n",
    "\n",
    "matplotlib.rc('image', cmap='Greys')"
   ]
  },
  {
   "cell_type": "markdown",
   "id": "5717f1e8",
   "metadata": {},
   "source": [
    "Get some example digits from the MNIST dataset."
   ]
  },
  {
   "cell_type": "code",
   "execution_count": 2,
   "id": "9095b4ae",
   "metadata": {},
   "outputs": [],
   "source": [
    "path = untar_data(URLs.MNIST_SAMPLE)"
   ]
  },
  {
   "cell_type": "code",
   "execution_count": 3,
   "id": "e6cd3f6b",
   "metadata": {},
   "outputs": [
    {
     "data": {
      "text/plain": [
       "(6131, 6265)"
      ]
     },
     "execution_count": 3,
     "metadata": {},
     "output_type": "execute_result"
    }
   ],
   "source": [
    "threes = (path/'train'/'3').ls().sorted()\n",
    "sevens = (path/'train'/'7').ls().sorted()\n",
    "len(threes), len(sevens)"
   ]
  },
  {
   "cell_type": "markdown",
   "id": "8180c642",
   "metadata": {},
   "source": [
    "Here is one image:"
   ]
  },
  {
   "cell_type": "code",
   "execution_count": 4,
   "id": "54fa7557",
   "metadata": {},
   "outputs": [
    {
     "data": {
      "image/png": "[encoded data removed]",
      "text/plain": [
       "<PIL.PngImagePlugin.PngImageFile image mode=L size=28x28 at 0x1117855E0>"
      ]
     },
     "execution_count": 4,
     "metadata": {},
     "output_type": "execute_result"
    }
   ],
   "source": [
    "example_3 = Image.open(threes[1])\n",
    "example_3"
   ]
  },
  {
   "cell_type": "markdown",
   "id": "39d16aed",
   "metadata": {},
   "source": [
    "To prepare to use it as input to a neural net, we first convert integers from 0 to 255 into floating point numbers between 0 and 1."
   ]
  },
  {
   "cell_type": "code",
   "execution_count": 5,
   "id": "7406d76e",
   "metadata": {},
   "outputs": [
    {
     "data": {
      "text/plain": [
       "torch.Size([28, 28])"
      ]
     },
     "execution_count": 5,
     "metadata": {},
     "output_type": "execute_result"
    }
   ],
   "source": [
    "example_3_tensor = tensor(example_3).float() / 255\n",
    "example_3_tensor.shape"
   ]
  },
  {
   "cell_type": "code",
   "execution_count": 6,
   "id": "de44e0ef",
   "metadata": {},
   "outputs": [],
   "source": [
    "height, width = example_3_tensor.shape"
   ]
  },
  {
   "cell_type": "markdown",
   "id": "647e66e8",
   "metadata": {},
   "source": [
    "Our particular network will ignore the spatial relationship between the features; later we'll learn about network architectures that do pay attention to spatial neighbors. So we'll *flatten* the image tensor into 28\\*28 values."
   ]
  },
  {
   "cell_type": "code",
   "execution_count": 7,
   "id": "4c43e173",
   "metadata": {},
   "outputs": [
    {
     "data": {
      "text/plain": [
       "torch.Size([784])"
      ]
     },
     "execution_count": 7,
     "metadata": {},
     "output_type": "execute_result"
    }
   ],
   "source": [
    "example_3_flat = example_3_tensor.view(width * height)\n",
    "example_3_flat.shape"
   ]
  },
  {
   "cell_type": "markdown",
   "id": "edee9e07",
   "metadata": {},
   "source": [
    "## Task\n",
    "\n"
   ]
  },
  {
   "cell_type": "markdown",
   "id": "e1fcae10",
   "metadata": {},
   "source": [
    "We'll define a simple neural network (in the book, a 3-vs-7 classifier) as the sequential combination of 3 layers. First we define each layer:"
   ]
  },
  {
   "cell_type": "code",
   "execution_count": 21,
   "id": "ca205bd4",
   "metadata": {},
   "outputs": [],
   "source": [
    "# Define the layers. This is where you'll try changing constants.\n",
    "linear_1 = nn.Linear(in_features=784, out_features=30)\n",
    "relu_layer = nn.ReLU()\n",
    "linear_2 = nn.Linear(in_features=30, out_features=1)"
   ]
  },
  {
   "cell_type": "markdown",
   "id": "90861399",
   "metadata": {},
   "source": [
    "Then we put them together in sequence."
   ]
  },
  {
   "cell_type": "code",
   "execution_count": 22,
   "id": "4502d4f6",
   "metadata": {},
   "outputs": [],
   "source": [
    "simple_net = nn.Sequential(\n",
    "    linear_1,\n",
    "    relu_layer,\n",
    "    linear_2\n",
    ")"
   ]
  },
  {
   "cell_type": "markdown",
   "id": "cc9b2970",
   "metadata": {},
   "source": [
    "Each of `nn.Linear`, `nn.ReLU`, and `nn.Squential` are PyTorch *modules*. We can *call* a module with some input data to get the output data:"
   ]
  },
  {
   "cell_type": "code",
   "execution_count": null,
   "id": "7dfa3887",
   "metadata": {},
   "outputs": [],
   "source": []
  },
  {
   "cell_type": "code",
   "execution_count": 23,
   "id": "b55251f7",
   "metadata": {},
   "outputs": [
    {
     "data": {
      "text/plain": [
       "tensor([-0.1616], grad_fn=<AddBackward0>)"
      ]
     },
     "execution_count": 23,
     "metadata": {},
     "output_type": "execute_result"
    }
   ],
   "source": [
    "simple_net(example_3_flat)"
   ]
  },
  {
   "cell_type": "markdown",
   "id": "1189506e",
   "metadata": {},
   "source": [
    "Your turn:"
   ]
  },
  {
   "cell_type": "code",
   "execution_count": 27,
   "id": "1e716ba9",
   "metadata": {},
   "outputs": [
    {
     "data": {
      "text/plain": [
       "tensor([0.0000e+00, 0.0000e+00, 2.0000e+01, 0.0000e+00, 0.0000e+00, 0.0000e+00, 0.0000e+00, 0.0000e+00, 0.0000e+00, 0.0000e+00, 0.0000e+00, 0.0000e+00, 0.0000e+00, 0.0000e+00, 0.0000e+00, 0.0000e+00,\n",
       "        0.0000e+00, 0.0000e+00, 0.0000e+00, 0.0000e+00, 0.0000e+00, 0.0000e+00, 0.0000e+00, 0.0000e+00, 0.0000e+00, 0.0000e+00, 0.0000e+00, 0.0000e+00, 0.0000e+00, 0.0000e+00, 0.0000e+00, 0.0000e+00,\n",
       "        0.0000e+00, 0.0000e+00, 0.0000e+00, 0.0000e+00, 0.0000e+00, 0.0000e+00, 0.0000e+00, 0.0000e+00, 0.0000e+00, 0.0000e+00, 0.0000e+00, 0.0000e+00, 0.0000e+00, 0.0000e+00, 0.0000e+00, 0.0000e+00,\n",
       "        0.0000e+00, 0.0000e+00, 0.0000e+00, 0.0000e+00, 0.0000e+00, 0.0000e+00, 0.0000e+00, 0.0000e+00, 0.0000e+00, 0.0000e+00, 0.0000e+00, 0.0000e+00, 0.0000e+00, 0.0000e+00, 0.0000e+00, 0.0000e+00,\n",
       "        0.0000e+00, 0.0000e+00, 0.0000e+00, 0.0000e+00, 0.0000e+00, 0.0000e+00, 0.0000e+00, 0.0000e+00, 0.0000e+00, 0.0000e+00, 0.0000e+00, 0.0000e+00, 0.0000e+00, 0.0000e+00, 0.0000e+00, 0.0000e+00,\n",
       "        0.0000e+00, 0.0000e+00, 0.0000e+00, 0.0000e+00, 0.0000e+00, 0.0000e+00, 0.0000e+00, 0.0000e+00, 0.0000e+00, 0.0000e+00, 0.0000e+00, 0.0000e+00, 0.0000e+00, 0.0000e+00, 0.0000e+00, 0.0000e+00,\n",
       "        0.0000e+00, 0.0000e+00, 0.0000e+00, 0.0000e+00, 0.0000e+00, 0.0000e+00, 0.0000e+00, 0.0000e+00, 0.0000e+00, 0.0000e+00, 0.0000e+00, 0.0000e+00, 0.0000e+00, 0.0000e+00, 0.0000e+00, 0.0000e+00,\n",
       "        0.0000e+00, 0.0000e+00, 0.0000e+00, 0.0000e+00, 0.0000e+00, 0.0000e+00, 0.0000e+00, 0.0000e+00, 0.0000e+00, 0.0000e+00, 0.0000e+00, 0.0000e+00, 0.0000e+00, 0.0000e+00, 0.0000e+00, 0.0000e+00,\n",
       "        0.0000e+00, 0.0000e+00, 0.0000e+00, 0.0000e+00, 0.0000e+00, 0.0000e+00, 0.0000e+00, 0.0000e+00, 0.0000e+00, 0.0000e+00, 0.0000e+00, 0.0000e+00, 0.0000e+00, 0.0000e+00, 0.0000e+00, 0.0000e+00,\n",
       "        0.0000e+00, 0.0000e+00, 0.0000e+00, 0.0000e+00, 0.0000e+00, 1.1373e-01, 5.8824e-01, 7.6471e-01, 9.9608e-01, 1.0000e+00, 9.9608e-01, 6.9020e-01, 7.5686e-01, 5.8824e-01, 3.7647e-01, 0.0000e+00,\n",
       "        0.0000e+00, 0.0000e+00, 0.0000e+00, 0.0000e+00, 0.0000e+00, 0.0000e+00, 0.0000e+00, 0.0000e+00, 0.0000e+00, 0.0000e+00, 0.0000e+00, 0.0000e+00, 0.0000e+00, 0.0000e+00, 0.0000e+00, 1.8824e-01,\n",
       "        6.5098e-01, 8.7843e-01, 9.9216e-01, 9.9216e-01, 9.1765e-01, 7.6863e-01, 9.9216e-01, 9.9216e-01, 9.9216e-01, 9.9216e-01, 9.1373e-01, 0.0000e+00, 0.0000e+00, 0.0000e+00, 0.0000e+00, 0.0000e+00,\n",
       "        0.0000e+00, 0.0000e+00, 0.0000e+00, 0.0000e+00, 0.0000e+00, 0.0000e+00, 0.0000e+00, 0.0000e+00, 0.0000e+00, 3.6471e-01, 9.5686e-01, 9.7647e-01, 9.9216e-01, 7.3333e-01, 1.8039e-01, 3.9216e-02,\n",
       "        3.1373e-02, 1.5686e-02, 3.9216e-02, 7.6078e-01, 9.9216e-01, 9.9216e-01, 9.1373e-01, 0.0000e+00, 0.0000e+00, 0.0000e+00, 0.0000e+00, 0.0000e+00, 0.0000e+00, 0.0000e+00, 0.0000e+00, 0.0000e+00,\n",
       "        0.0000e+00, 0.0000e+00, 0.0000e+00, 0.0000e+00, 0.0000e+00, 4.1961e-01, 9.9216e-01, 9.9216e-01, 9.0196e-01, 1.8824e-01, 0.0000e+00, 0.0000e+00, 0.0000e+00, 0.0000e+00, 0.0000e+00, 7.5294e-01,\n",
       "        9.9216e-01, 9.9216e-01, 6.1176e-01, 0.0000e+00, 0.0000e+00, 0.0000e+00, 0.0000e+00, 0.0000e+00, 0.0000e+00, 0.0000e+00, 0.0000e+00, 0.0000e+00, 0.0000e+00, 0.0000e+00, 0.0000e+00, 0.0000e+00,\n",
       "        0.0000e+00, 1.1765e-02, 7.8431e-02, 7.8431e-02, 5.8824e-02, 0.0000e+00, 0.0000e+00, 0.0000e+00, 0.0000e+00, 0.0000e+00, 1.6863e-01, 8.7843e-01, 9.9216e-01, 9.6078e-01, 2.9020e-01, 0.0000e+00,\n",
       "        0.0000e+00, 0.0000e+00, 0.0000e+00, 0.0000e+00, 0.0000e+00, 0.0000e+00, 0.0000e+00, 0.0000e+00, 0.0000e+00, 0.0000e+00, 0.0000e+00, 0.0000e+00, 0.0000e+00, 0.0000e+00, 0.0000e+00, 0.0000e+00,\n",
       "        0.0000e+00, 0.0000e+00, 0.0000e+00, 0.0000e+00, 0.0000e+00, 0.0000e+00, 9.7647e-01, 9.9216e-01, 9.6078e-01, 4.9412e-01, 0.0000e+00, 0.0000e+00, 0.0000e+00, 0.0000e+00, 0.0000e+00, 0.0000e+00,\n",
       "        0.0000e+00, 0.0000e+00, 0.0000e+00, 0.0000e+00, 0.0000e+00, 0.0000e+00, 0.0000e+00, 0.0000e+00, 0.0000e+00, 0.0000e+00, 0.0000e+00, 0.0000e+00, 0.0000e+00, 0.0000e+00, 0.0000e+00, 5.4902e-02,\n",
       "        3.9608e-01, 8.7451e-01, 9.9216e-01, 9.7255e-01, 4.8627e-01, 0.0000e+00, 0.0000e+00, 0.0000e+00, 0.0000e+00, 0.0000e+00, 0.0000e+00, 0.0000e+00, 0.0000e+00, 0.0000e+00, 0.0000e+00, 0.0000e+00,\n",
       "        0.0000e+00, 0.0000e+00, 0.0000e+00, 0.0000e+00, 0.0000e+00, 0.0000e+00, 0.0000e+00, 0.0000e+00, 0.0000e+00, 4.3137e-02, 6.5098e-01, 9.3725e-01, 9.9216e-01, 9.9216e-01, 9.9216e-01, 7.3333e-01,\n",
       "        1.1765e-01, 0.0000e+00, 0.0000e+00, 0.0000e+00, 0.0000e+00, 0.0000e+00, 0.0000e+00, 0.0000e+00, 0.0000e+00, 0.0000e+00, 0.0000e+00, 0.0000e+00, 0.0000e+00, 0.0000e+00, 0.0000e+00, 0.0000e+00,\n",
       "        0.0000e+00, 0.0000e+00, 0.0000e+00, 0.0000e+00, 0.0000e+00, 6.2745e-02, 9.7255e-01, 9.8039e-01, 9.9216e-01, 9.9216e-01, 9.9216e-01, 9.9216e-01, 9.0980e-01, 8.3529e-01, 4.3529e-01, 7.8431e-03,\n",
       "        0.0000e+00, 0.0000e+00, 0.0000e+00, 0.0000e+00, 0.0000e+00, 0.0000e+00, 0.0000e+00, 0.0000e+00, 0.0000e+00, 0.0000e+00, 0.0000e+00, 0.0000e+00, 0.0000e+00, 0.0000e+00, 0.0000e+00, 0.0000e+00,\n",
       "        0.0000e+00, 0.0000e+00, 0.0000e+00, 1.6863e-01, 3.8431e-01, 3.8431e-01, 8.1569e-01, 9.9216e-01, 9.9216e-01, 9.9216e-01, 9.9216e-01, 7.3333e-01, 8.6275e-02, 0.0000e+00, 0.0000e+00, 0.0000e+00,\n",
       "        0.0000e+00, 0.0000e+00, 0.0000e+00, 0.0000e+00, 0.0000e+00, 0.0000e+00, 0.0000e+00, 0.0000e+00, 0.0000e+00, 0.0000e+00, 0.0000e+00, 0.0000e+00, 0.0000e+00, 0.0000e+00, 0.0000e+00, 0.0000e+00,\n",
       "        0.0000e+00, 0.0000e+00, 3.5294e-02, 2.0000e-01, 4.6667e-01, 9.9216e-01, 9.9216e-01, 9.9216e-01, 2.9804e-01, 0.0000e+00, 0.0000e+00, 0.0000e+00, 0.0000e+00, 0.0000e+00, 0.0000e+00, 0.0000e+00,\n",
       "        0.0000e+00, 0.0000e+00, 0.0000e+00, 0.0000e+00, 0.0000e+00, 0.0000e+00, 0.0000e+00, 0.0000e+00, 0.0000e+00, 0.0000e+00, 0.0000e+00, 0.0000e+00, 0.0000e+00, 0.0000e+00, 0.0000e+00, 0.0000e+00,\n",
       "        3.9216e-03, 7.1765e-01, 9.9216e-01, 9.9216e-01, 5.4510e-01, 0.0000e+00, 0.0000e+00, 0.0000e+00, 0.0000e+00, 0.0000e+00, 0.0000e+00, 0.0000e+00, 0.0000e+00, 0.0000e+00, 0.0000e+00, 0.0000e+00,\n",
       "        0.0000e+00, 0.0000e+00, 0.0000e+00, 0.0000e+00, 0.0000e+00, 0.0000e+00, 0.0000e+00, 0.0000e+00, 0.0000e+00, 0.0000e+00, 0.0000e+00, 0.0000e+00, 0.0000e+00, 7.1373e-01, 9.9216e-01, 9.9216e-01,\n",
       "        4.0784e-01, 0.0000e+00, 0.0000e+00, 0.0000e+00, 0.0000e+00, 0.0000e+00, 0.0000e+00, 0.0000e+00, 0.0000e+00, 0.0000e+00, 0.0000e+00, 0.0000e+00, 0.0000e+00, 0.0000e+00, 0.0000e+00, 0.0000e+00,\n",
       "        0.0000e+00, 0.0000e+00, 0.0000e+00, 0.0000e+00, 0.0000e+00, 0.0000e+00, 0.0000e+00, 0.0000e+00, 3.3333e-01, 9.7647e-01, 9.9216e-01, 9.9216e-01, 1.4118e-01, 0.0000e+00, 0.0000e+00, 0.0000e+00,\n",
       "        0.0000e+00, 0.0000e+00, 0.0000e+00, 0.0000e+00, 0.0000e+00, 0.0000e+00, 0.0000e+00, 0.0000e+00, 0.0000e+00, 0.0000e+00, 0.0000e+00, 0.0000e+00, 0.0000e+00, 0.0000e+00, 0.0000e+00, 0.0000e+00,\n",
       "        0.0000e+00, 0.0000e+00, 0.0000e+00, 2.3529e-01, 8.3922e-01, 9.9216e-01, 9.9216e-01, 6.7843e-01, 4.3137e-02, 0.0000e+00, 0.0000e+00, 0.0000e+00, 0.0000e+00, 0.0000e+00, 0.0000e+00, 0.0000e+00,\n",
       "        0.0000e+00, 0.0000e+00, 0.0000e+00, 0.0000e+00, 0.0000e+00, 0.0000e+00, 0.0000e+00, 0.0000e+00, 0.0000e+00, 0.0000e+00, 0.0000e+00, 0.0000e+00, 0.0000e+00, 0.0000e+00, 3.8431e-01, 9.6863e-01,\n",
       "        9.9216e-01, 9.9216e-01, 8.8627e-01, 3.5294e-02, 0.0000e+00, 0.0000e+00, 0.0000e+00, 0.0000e+00, 0.0000e+00, 0.0000e+00, 0.0000e+00, 0.0000e+00, 0.0000e+00, 0.0000e+00, 0.0000e+00, 0.0000e+00,\n",
       "        0.0000e+00, 0.0000e+00, 0.0000e+00, 0.0000e+00, 0.0000e+00, 0.0000e+00, 0.0000e+00, 0.0000e+00, 1.6471e-01, 5.8824e-01, 9.8824e-01, 9.9216e-01, 9.9216e-01, 9.1373e-01, 2.0784e-01, 0.0000e+00,\n",
       "        0.0000e+00, 0.0000e+00, 0.0000e+00, 0.0000e+00, 0.0000e+00, 0.0000e+00, 0.0000e+00, 0.0000e+00, 0.0000e+00, 0.0000e+00, 0.0000e+00, 0.0000e+00, 0.0000e+00, 0.0000e+00, 1.6471e-01, 4.5098e-01,\n",
       "        1.6471e-01, 2.3529e-01, 4.5098e-01, 6.2353e-01, 9.4118e-01, 9.9216e-01, 9.9216e-01, 9.8039e-01, 6.8627e-01, 9.8039e-02, 0.0000e+00, 0.0000e+00, 0.0000e+00, 0.0000e+00, 0.0000e+00, 0.0000e+00,\n",
       "        0.0000e+00, 0.0000e+00, 0.0000e+00, 0.0000e+00, 0.0000e+00, 0.0000e+00, 0.0000e+00, 0.0000e+00, 0.0000e+00, 0.0000e+00, 7.3333e-01, 9.9216e-01, 9.9216e-01, 9.9216e-01, 9.9216e-01, 9.9216e-01,\n",
       "        9.9216e-01, 9.9216e-01, 7.7255e-01, 3.3725e-01, 0.0000e+00, 0.0000e+00, 0.0000e+00, 0.0000e+00, 0.0000e+00, 0.0000e+00, 0.0000e+00, 0.0000e+00, 0.0000e+00, 0.0000e+00, 0.0000e+00, 0.0000e+00,\n",
       "        0.0000e+00, 0.0000e+00, 0.0000e+00, 0.0000e+00, 0.0000e+00, 0.0000e+00, 4.0392e-01, 9.9216e-01, 9.9216e-01, 9.9216e-01, 9.9216e-01, 9.9216e-01, 9.0980e-01, 2.6275e-01, 3.9216e-03, 0.0000e+00,\n",
       "        0.0000e+00, 0.0000e+00, 0.0000e+00, 0.0000e+00, 0.0000e+00, 0.0000e+00, 0.0000e+00, 0.0000e+00, 0.0000e+00, 0.0000e+00, 0.0000e+00, 0.0000e+00, 0.0000e+00, 0.0000e+00, 0.0000e+00, 0.0000e+00,\n",
       "        0.0000e+00, 0.0000e+00, 0.0000e+00, 0.0000e+00, 0.0000e+00, 0.0000e+00, 0.0000e+00, 0.0000e+00, 0.0000e+00, 0.0000e+00, 0.0000e+00, 0.0000e+00, 0.0000e+00, 0.0000e+00, 0.0000e+00, 0.0000e+00,\n",
       "        0.0000e+00, 0.0000e+00, 0.0000e+00, 0.0000e+00, 0.0000e+00, 0.0000e+00, 0.0000e+00, 0.0000e+00, 0.0000e+00, 0.0000e+00, 0.0000e+00, 0.0000e+00, 0.0000e+00, 0.0000e+00, 0.0000e+00, 0.0000e+00,\n",
       "        0.0000e+00, 0.0000e+00, 0.0000e+00, 0.0000e+00, 0.0000e+00, 0.0000e+00, 0.0000e+00, 0.0000e+00, 0.0000e+00, 0.0000e+00, 0.0000e+00, 0.0000e+00, 0.0000e+00, 0.0000e+00, 0.0000e+00, 0.0000e+00,\n",
       "        0.0000e+00, 0.0000e+00, 0.0000e+00, 0.0000e+00, 0.0000e+00, 0.0000e+00, 0.0000e+00, 0.0000e+00, 0.0000e+00, 0.0000e+00, 0.0000e+00, 0.0000e+00, 0.0000e+00, 0.0000e+00, 0.0000e+00, 0.0000e+00,\n",
       "        0.0000e+00, 0.0000e+00, 0.0000e+00, 0.0000e+00, 0.0000e+00, 0.0000e+00, 0.0000e+00, 0.0000e+00, 0.0000e+00, 0.0000e+00, 0.0000e+00, 0.0000e+00, 0.0000e+00, 0.0000e+00, 0.0000e+00, 0.0000e+00])"
      ]
     },
     "execution_count": 27,
     "metadata": {},
     "output_type": "execute_result"
    }
   ],
   "source": []
  },
  {
   "cell_type": "code",
   "execution_count": null,
   "id": "1a8d349d",
   "metadata": {},
   "outputs": [],
   "source": [
    "linear_1.weight"
   ]
  },
  {
   "cell_type": "code",
   "execution_count": 29,
   "id": "421ba983",
   "metadata": {},
   "outputs": [],
   "source": [
    "import ipywidgets as widgets"
   ]
  },
  {
   "cell_type": "code",
   "execution_count": 34,
   "id": "fb28f033",
   "metadata": {},
   "outputs": [
    {
     "data": {
      "application/vnd.jupyter.widget-view+json": {
       "model_id": "dd283541e11948f38668ba8526e3b291",
       "version_major": 2,
       "version_minor": 0
      },
      "text/plain": [
       "interactive(children=(FloatSlider(value=0.0, description='z', max=10.0, min=-10.0), Output()), _dom_classes=('…"
      ]
     },
     "metadata": {},
     "output_type": "display_data"
    }
   ],
   "source": [
    "@widgets.interact(z=(-10., 10.0))\n",
    "def plotter(z):\n",
    "    inp = example_3_flat.clone()\n",
    "    xx = torch.linspace(-20, 20, 100)\n",
    "    yy = []\n",
    "    for x in xx:\n",
    "        inp[2] = x\n",
    "        inp[0] = z\n",
    "        yy.append(simple_net(inp).detach().item())\n",
    "    plt.plot(xx, yy)"
   ]
  },
  {
   "cell_type": "code",
   "execution_count": null,
   "id": "84772fc6",
   "metadata": {},
   "outputs": [],
   "source": []
  },
  {
   "cell_type": "code",
   "execution_count": null,
   "id": "68bd2ae8",
   "metadata": {},
   "outputs": [],
   "source": []
  },
  {
   "cell_type": "markdown",
   "id": "f479d8e7",
   "metadata": {},
   "source": [
    "1. Obtain the same result as the line above by applying each layer in sequence.\n",
    "\n",
    "The outputs of each layer are called *activations*, so we can name the variables `act1` for the activations of layer 1, and so forth."
   ]
  },
  {
   "cell_type": "code",
   "execution_count": null,
   "id": "8ffb847c",
   "metadata": {},
   "outputs": [],
   "source": [
    "inp = example_3_flat\n",
    "act1 = ..."
   ]
  },
  {
   "cell_type": "code",
   "execution_count": null,
   "id": "a8f52ebc",
   "metadata": {},
   "outputs": [],
   "source": [
    "act2 = ..."
   ]
  },
  {
   "cell_type": "code",
   "execution_count": null,
   "id": "06cc6aa5",
   "metadata": {},
   "outputs": [],
   "source": [
    "act3 = ..."
   ]
  },
  {
   "cell_type": "markdown",
   "id": "555cf6ec",
   "metadata": {},
   "source": [
    "2. Evaluate `act1`, `act2`, and `act3`. (Code already provided; look at the results.)"
   ]
  },
  {
   "cell_type": "code",
   "execution_count": null,
   "id": "71fb50cb",
   "metadata": {},
   "outputs": [],
   "source": [
    "act1"
   ]
  },
  {
   "cell_type": "code",
   "execution_count": null,
   "id": "717a140f",
   "metadata": {},
   "outputs": [],
   "source": [
    "act2"
   ]
  },
  {
   "cell_type": "code",
   "execution_count": null,
   "id": "021ede80",
   "metadata": {},
   "outputs": [],
   "source": [
    "act3"
   ]
  },
  {
   "cell_type": "markdown",
   "id": "ff68adbd",
   "metadata": {},
   "source": [
    "2. Evaluate the `shape` of `act1`, `act2`, and `act3`."
   ]
  },
  {
   "cell_type": "code",
   "execution_count": null,
   "id": "8e8cf98d",
   "metadata": {},
   "outputs": [],
   "source": [
    "# your code here"
   ]
  },
  {
   "cell_type": "markdown",
   "id": "7f9271b1",
   "metadata": {},
   "source": [
    "3. Write expressions for the shapes of each activation in terms of `linear_1.in_features`, `linear_2.out_features`, etc. (ignore the `torch.Size(` part)"
   ]
  },
  {
   "cell_type": "code",
   "execution_count": null,
   "id": "5d9f61bc",
   "metadata": {},
   "outputs": [],
   "source": [
    "linear_1.in_features"
   ]
  },
  {
   "cell_type": "code",
   "execution_count": null,
   "id": "ffd3a3e5",
   "metadata": {},
   "outputs": [],
   "source": [
    "act1_shape = [...]\n",
    "act2_shape = [...]\n",
    "act3_shape = [...]"
   ]
  },
  {
   "cell_type": "markdown",
   "id": "35ed4000",
   "metadata": {},
   "source": [
    "4. Evaluate the `shape` of `linear_1.weight`, `linear_1.bias`, and the same for `linear_2`. Write expressions that give the value of each shape in terms of the `in_features` and other parameters."
   ]
  },
  {
   "cell_type": "code",
   "execution_count": null,
   "id": "85b69231",
   "metadata": {},
   "outputs": [],
   "source": [
    "linear_1_weight_shape = [...]"
   ]
  },
  {
   "cell_type": "markdown",
   "id": "4c76d8e1",
   "metadata": {},
   "source": [
    "## Analysis"
   ]
  },
  {
   "cell_type": "markdown",
   "id": "fb578c72",
   "metadata": {},
   "source": [
    "1. Try changing each of the constants provided to the `nn.Linear` modules. Identify an example of:\n",
    "    1. A constant that can be freely changed in the neural net definition.\n",
    "    2. A constant that cannot be changed because it depends on the input.\n",
    "    3. A pair of constants that must be changed together."
   ]
  },
  {
   "cell_type": "markdown",
   "id": "292a8c7c",
   "metadata": {},
   "source": [
    "*your answer here*"
   ]
  },
  {
   "cell_type": "markdown",
   "id": "1622d971",
   "metadata": {},
   "source": [
    "2. Describe the relationship between the values in  `act1` and `act2`."
   ]
  },
  {
   "cell_type": "markdown",
   "id": "82f5d8f1",
   "metadata": {},
   "source": [
    "*your answer here*"
   ]
  },
  {
   "cell_type": "markdown",
   "id": "3497b0bc",
   "metadata": {},
   "source": [
    "3. In a concise but complete sentence, describe the shapes of the parameters of the `Linear` layer (`weight` and `bias`)."
   ]
  },
  {
   "cell_type": "markdown",
   "id": "54001e18",
   "metadata": {},
   "source": [
    "*your answer here*"
   ]
  }
 ],
 "metadata": {
  "kernelspec": {
   "display_name": "Python 3",
   "language": "python",
   "name": "python3"
  },
  "language_info": {
   "codemirror_mode": {
    "name": "ipython",
    "version": 3
   },
   "file_extension": ".py",
   "mimetype": "text/x-python",
   "name": "python",
   "nbconvert_exporter": "python",
   "pygments_lexer": "ipython3",
   "version": "3.9.9"
  }
 },
 "nbformat": 4,
 "nbformat_minor": 5
}
