{
 "cells": [
  {
   "cell_type": "markdown",
   "id": "96848edf",
   "metadata": {},
   "source": [
    "# Train Simple Image Classifier\n",
    "\n",
    "Task: Train a simple image classifier using cross-entropy loss"
   ]
  },
  {
   "cell_type": "markdown",
   "id": "900e7193",
   "metadata": {},
   "source": [
    "## Setup"
   ]
  },
  {
   "cell_type": "code",
   "execution_count": 1,
   "id": "abf51f02",
   "metadata": {},
   "outputs": [],
   "source": [
    "from fastai.vision.all import *\n",
    "from fastbook import *\n",
    "\n",
    "# Input tensors get tagged as `TensorImageBW`, and they keep that tag even after going through the model.\n",
    "# I'm not sure how you're supposed to drop that tag, but this works around a type dispatch error.\n",
    "TensorImageBW.register_func(F.cross_entropy, TensorImageBW, TensorCategory)\n",
    "\n",
    "import sys\n",
    "if sys.platform == \"darwin\":\n",
    "    # https://stackoverflow.com/a/64855500/69707\n",
    "    import os\n",
    "    os.environ['OMP_NUM_THREADS'] = '1'"
   ]
  },
  {
   "cell_type": "markdown",
   "id": "5717f1e8",
   "metadata": {},
   "source": [
    "Load up the MNIST dataset. It has 10 digits."
   ]
  },
  {
   "cell_type": "code",
   "execution_count": 2,
   "id": "9095b4ae",
   "metadata": {},
   "outputs": [
    {
     "data": {
      "text/plain": [
       "Path('/Users/ka37/.fastai/data/mnist_png')"
      ]
     },
     "execution_count": 2,
     "metadata": {},
     "output_type": "execute_result"
    }
   ],
   "source": [
    "path = untar_data(URLs.MNIST)\n",
    "path"
   ]
  },
  {
   "cell_type": "markdown",
   "id": "ba9a4ef8",
   "metadata": {},
   "source": [
    "Create a subset of the images, so we train faster. We do this by taking 500 random images of each digit."
   ]
  },
  {
   "cell_type": "code",
   "execution_count": 3,
   "id": "8392fed5",
   "metadata": {},
   "outputs": [],
   "source": [
    "set_seed(0)\n",
    "num_imgs_per_digit = 500\n",
    "items = L([\n",
    "    p\n",
    "    for split in ['training', 'testing']\n",
    "    for digit in range(10)\n",
    "    for p in (path/split/str(digit)).ls().shuffle()[:num_imgs_per_digit]\n",
    "])"
   ]
  },
  {
   "cell_type": "markdown",
   "id": "4899684d",
   "metadata": {},
   "source": [
    "Create the `dataloaders`. We need a slightly special `ImageBlock` because we want grayscale images."
   ]
  },
  {
   "cell_type": "code",
   "execution_count": 4,
   "id": "a850997e",
   "metadata": {},
   "outputs": [
    {
     "name": "stdout",
     "output_type": "stream",
     "text": [
      "5000 training images, 5000 validation images\n"
     ]
    }
   ],
   "source": [
    "block = DataBlock(\n",
    "    blocks=(ImageBlock(PILImageBW), CategoryBlock),\n",
    "    get_y = parent_label,\n",
    "    splitter=GrandparentSplitter(train_name='training', valid_name=\"testing\"),\n",
    ")\n",
    "dataloaders = block.dataloaders(items, bs=16)\n",
    "print(f\"{dataloaders.train.n} training images, {dataloaders.valid.n} validation images\")"
   ]
  },
  {
   "cell_type": "markdown",
   "id": "6e3944a3",
   "metadata": {},
   "source": [
    "Let's inspect a batch of data."
   ]
  },
  {
   "cell_type": "code",
   "execution_count": 5,
   "id": "ec5b8f40",
   "metadata": {},
   "outputs": [
    {
     "data": {
      "image/png": "[encoded data removed]",
      "text/plain": [
       "<Figure size 648x648 with 9 Axes>"
      ]
     },
     "metadata": {
      "needs_background": "light"
     },
     "output_type": "display_data"
    }
   ],
   "source": [
    "dataloaders.train.show_batch()"
   ]
  },
  {
   "cell_type": "code",
   "execution_count": 6,
   "id": "8d3439f0",
   "metadata": {},
   "outputs": [
    {
     "name": "stdout",
     "output_type": "stream",
     "text": [
      "Available categories: ['0', '1', '2', '3', '4', '5', '6', '7', '8', '9']\n"
     ]
    }
   ],
   "source": [
    "print(f\"Available categories: {dataloaders.train.vocab}\")"
   ]
  },
  {
   "cell_type": "markdown",
   "id": "edee9e07",
   "metadata": {},
   "source": [
    "## Task\n",
    "\n"
   ]
  },
  {
   "cell_type": "markdown",
   "id": "ad47e197",
   "metadata": {},
   "source": [
    "Let's make a neural network to predict which digit was written, using the raw pixel values. We'll keep it at a *single* layer today, so this is actually just a fancy way of doing *logistic regression*. But it'll give us a chance to work with minibatches and loss functions."
   ]
  },
  {
   "cell_type": "markdown",
   "id": "addf7b5e",
   "metadata": {},
   "source": [
    "Step 1: Create a linear layer of the appropriate dimensionality.\n",
    "\n",
    "- Like we did in Homework 4, we'll flatten the images before giving them to the linear layer. They are 28 pixels square.\n",
    "- Unlike in Homework 4, we're trying to predict which of 10 digits. So think about the output dimensionality.\n",
    "- We'll turn `bias` off because it's redundant in this setting."
   ]
  },
  {
   "cell_type": "code",
   "execution_count": 7,
   "id": "ca205bd4",
   "metadata": {},
   "outputs": [],
   "source": [
    "# linear_1 = nn.Linear(in_features=..., out_features=..., bias=False)\n",
    "linear_1 = nn.Linear(in_features=784, out_features=10, bias=False)\n",
    "model = nn.Sequential(\n",
    "    nn.Flatten(),\n",
    "    linear_1,\n",
    ")"
   ]
  },
  {
   "cell_type": "markdown",
   "id": "694ad101",
   "metadata": {},
   "source": [
    "We test out our model on one batch of data."
   ]
  },
  {
   "cell_type": "code",
   "execution_count": 56,
   "id": "69d16764",
   "metadata": {},
   "outputs": [
    {
     "data": {
      "text/plain": [
       "torch.Size([16, 1, 28, 28])"
      ]
     },
     "execution_count": 56,
     "metadata": {},
     "output_type": "execute_result"
    }
   ],
   "source": [
    "images, labels = dataloaders.train.one_batch()\n",
    "images = TensorBase(images) # work around a fastai quirk\n",
    "images.shape"
   ]
  },
  {
   "cell_type": "code",
   "execution_count": 57,
   "id": "07a0cbd1",
   "metadata": {},
   "outputs": [
    {
     "data": {
      "text/plain": [
       "torch.Size([16, 10])"
      ]
     },
     "execution_count": 57,
     "metadata": {},
     "output_type": "execute_result"
    }
   ],
   "source": [
    "logits = model(images)\n",
    "assert logits.shape == (16, 10)\n",
    "logits.shape"
   ]
  },
  {
   "cell_type": "markdown",
   "id": "31fdf1c1",
   "metadata": {},
   "source": [
    "Think about why `logits.shape` contains those two numbers. "
   ]
  },
  {
   "cell_type": "code",
   "execution_count": 58,
   "id": "dbfeb6ad",
   "metadata": {},
   "outputs": [
    {
     "data": {
      "text/plain": [
       "TensorCategory([4, 8, 7, 7, 4, 1, 3, 8, 5, 0, 8, 0, 1, 0, 1, 4])"
      ]
     },
     "execution_count": 58,
     "metadata": {},
     "output_type": "execute_result"
    }
   ],
   "source": [
    "labels"
   ]
  },
  {
   "cell_type": "markdown",
   "id": "c9e61fdf",
   "metadata": {},
   "source": [
    "Now let's compute the cross-entropy loss. We'll use [`F.cross_entropy`](https://pytorch.org/docs/stable/generated/torch.nn.functional.cross_entropy.html#torch.nn.functional.cross_entropy) from PyTorch, which has the following basic signature (simplified somewhat from the official docs):\n",
    "\n",
    "```python\n",
    "F.cross_entropy(\n",
    "  logits: Tensor[Batch, Categories], # the unnormalized scores of each class, for each item in the batch\n",
    "  target: TensorCategory[Batch],     # the correct label index (an int) for each item in the class\n",
    "  reduction: str = 'mean'            # whether to return a single number for the average loss across the batch ('mean') or not ('none')\n",
    "  label_smoothing: float = 0.0       # how much label smoothing to apply (none by default)\n",
    ")\n",
    "```"
   ]
  },
  {
   "cell_type": "markdown",
   "id": "96f96448",
   "metadata": {},
   "source": [
    "Let's try it on our logits and labels for this batch. (I'm unsure why it's still a `TensorCategory`, it should just be a normal `Tensor`.)"
   ]
  },
  {
   "cell_type": "code",
   "execution_count": 59,
   "id": "dd41ab3c",
   "metadata": {},
   "outputs": [
    {
     "data": {
      "text/plain": [
       "TensorCategory([0.8417, 0.0684, 0.4866, 0.0549, 0.3100, 0.0383, 0.1758, 0.4911, 0.4264, 0.0376, 1.7685, 0.0110, 0.5546, 0.1009, 0.0275, 0.1196], grad_fn=<AliasBackward0>)"
      ]
     },
     "execution_count": 59,
     "metadata": {},
     "output_type": "execute_result"
    }
   ],
   "source": [
    "loss = F.cross_entropy(logits, labels, reduction='none')\n",
    "loss"
   ]
  },
  {
   "cell_type": "code",
   "execution_count": 61,
   "id": "9be673ad",
   "metadata": {},
   "outputs": [
    {
     "data": {
      "text/plain": [
       "TensorCategory(0.3446, grad_fn=<AliasBackward0>)"
      ]
     },
     "execution_count": 61,
     "metadata": {},
     "output_type": "execute_result"
    }
   ],
   "source": [
    "loss.mean()"
   ]
  },
  {
   "cell_type": "markdown",
   "id": "35a7c27f",
   "metadata": {},
   "source": [
    "We can use `argmax` to ask *which* category got the highest probability for each label. This will be useful for compting a *metric* like accuracy."
   ]
  },
  {
   "cell_type": "code",
   "execution_count": 62,
   "id": "3fee3a27",
   "metadata": {},
   "outputs": [
    {
     "name": "stdout",
     "output_type": "stream",
     "text": [
      "torch.Size([16])\n"
     ]
    },
    {
     "data": {
      "text/plain": [
       "TensorBase([4, 8, 7, 7, 4, 1, 3, 8, 5, 0, 5, 0, 1, 0, 1, 4])"
      ]
     },
     "execution_count": 62,
     "metadata": {},
     "output_type": "execute_result"
    }
   ],
   "source": [
    "predictions = logits.argmax(dim=1)\n",
    "print(predictions.shape)\n",
    "predictions"
   ]
  },
  {
   "cell_type": "markdown",
   "id": "b2a72c32",
   "metadata": {},
   "source": [
    "Now, fill in the blanks in the code below to train the model."
   ]
  },
  {
   "cell_type": "code",
   "execution_count": 51,
   "id": "429d4708",
   "metadata": {},
   "outputs": [
    {
     "name": "stdout",
     "output_type": "stream",
     "text": [
      "Epoch  0: loss=1.45, train accuracy 3587/4992\n",
      "Epoch  1: loss=1.14, train accuracy 4225/4992\n",
      "Epoch  2: loss=0.98, train accuracy 4299/4992\n",
      "Epoch  3: loss=0.88, train accuracy 4355/4992\n",
      "Epoch  4: loss=0.81, train accuracy 4405/4992\n",
      "Epoch  5: loss=0.76, train accuracy 4427/4992\n",
      "Epoch  6: loss=0.72, train accuracy 4451/4992\n",
      "Epoch  7: loss=0.69, train accuracy 4458/4992\n",
      "Epoch  8: loss=0.66, train accuracy 4476/4992\n",
      "Epoch  9: loss=0.63, train accuracy 4482/4992\n"
     ]
    },
    {
     "data": {
      "image/png": "[encoded data removed]",
      "text/plain": [
       "<Figure size 432x288 with 1 Axes>"
      ]
     },
     "metadata": {
      "needs_background": "light"
     },
     "output_type": "display_data"
    }
   ],
   "source": [
    "num_epochs = 10\n",
    "learning_rate = .01\n",
    "losses = []\n",
    "\n",
    "# Re-initialize the parameters of the model, so training restarts when this block starts.\n",
    "linear_1.reset_parameters()\n",
    "for epoch in range(num_epochs):\n",
    "    # Keep track of some things for each epoch.\n",
    "    total_images = 0\n",
    "    total_correct = 0\n",
    "    for images, labels in dataloaders.train:\n",
    "        images = TensorBase(images) # work around a quirk in fastai, ignore this\n",
    "        # logits = ...\n",
    "        logits = model(images)\n",
    "        # loss = ...\n",
    "        loss = F.cross_entropy(logits, labels) # automatically takes the mean\n",
    "\n",
    "        # take an SGD step.\n",
    "        loss.backward()\n",
    "        for parameter in model.parameters():\n",
    "            parameter.data -= learning_rate * parameter.grad\n",
    "        model.zero_grad()\n",
    "\n",
    "        # Track metrics\n",
    "        predictions = logits.argmax(axis=1)\n",
    "        num_accurate = (predictions == labels).sum()\n",
    "        total_images += len(labels)\n",
    "        total_correct += num_accurate\n",
    "\n",
    "        # Track losses.\n",
    "        losses.append(loss.item())\n",
    "\n",
    "    # Epoch done, print some stats.\n",
    "    avg_loss_this_epoch = np.mean(losses[-total_images:])\n",
    "    print(f\"Epoch {epoch:2d}: loss={avg_loss_this_epoch:.2f}, train accuracy {total_correct:3d}/{total_images}\")\n",
    "\n",
    "# Plot the un-smoothed loss\n",
    "#plt.plot(losses)\n",
    "# Plot a smoothed version of the loss (easier to see the trends)\n",
    "pd.Series(losses).ewm(alpha = .1).mean().plot()\n",
    "plt.xlabel(\"Iteration\")\n",
    "plt.ylabel(\"Cross-Entropy Loss\");"
   ]
  },
  {
   "cell_type": "markdown",
   "id": "7ecd057b",
   "metadata": {},
   "source": [
    "Let's inspect the weights of our trained network. Since we have a single layer, it's relatively easy to do this. First, look at the weights of the `linear_1` layer:"
   ]
  },
  {
   "cell_type": "code",
   "execution_count": 16,
   "id": "74a00589",
   "metadata": {},
   "outputs": [
    {
     "data": {
      "text/plain": [
       "torch.Size([10, 784])"
      ]
     },
     "execution_count": 16,
     "metadata": {},
     "output_type": "execute_result"
    }
   ],
   "source": [
    "linear_1.weight.shape"
   ]
  },
  {
   "cell_type": "code",
   "execution_count": 17,
   "id": "f6fbba61",
   "metadata": {},
   "outputs": [
    {
     "data": {
      "image/png": "[encoded data removed]",
      "text/plain": [
       "<Figure size 2160x216 with 10 Axes>"
      ]
     },
     "metadata": {
      "needs_background": "light"
     },
     "output_type": "display_data"
    }
   ],
   "source": [
    "\n",
    "show_images(linear_1.weight.data.view((10, 28, 28)))"
   ]
  },
  {
   "cell_type": "markdown",
   "id": "ba85587b",
   "metadata": {},
   "source": [
    "## Analysis\n",
    "\n",
    "Q1: Why is `logits.shape` 16 by 10?"
   ]
  },
  {
   "cell_type": "markdown",
   "id": "1d7b8e01",
   "metadata": {},
   "source": [
    "*your answer here*"
   ]
  },
  {
   "cell_type": "markdown",
   "id": "00138d95",
   "metadata": {},
   "source": [
    "Q2:  Before we trained the model (i.e., it just had random weights), the cross entropy was all about the same number. What was that number, and why? Hint:"
   ]
  },
  {
   "cell_type": "code",
   "execution_count": 19,
   "id": "c47dd44d",
   "metadata": {},
   "outputs": [
    {
     "data": {
      "text/plain": [
       "2.302585092994046"
      ]
     },
     "execution_count": 19,
     "metadata": {},
     "output_type": "execute_result"
    }
   ],
   "source": [
    "np.log(10)"
   ]
  },
  {
   "cell_type": "markdown",
   "id": "1d7b8e01",
   "metadata": {},
   "source": [
    "*your answer here*"
   ]
  },
  {
   "cell_type": "markdown",
   "id": "1445d056",
   "metadata": {},
   "source": [
    "Q3: Adjust the learning rate parameter. Give an example of a learning rate that is too high, one that is too low, and one that is good. For each, explain your answer by describing what the loss curve looks like."
   ]
  },
  {
   "cell_type": "markdown",
   "id": "1d7b8e01",
   "metadata": {},
   "source": [
    "*your answer here*"
   ]
  }
 ],
 "metadata": {
  "interpreter": {
   "hash": "e8f4b6a4c38f2085446f7f3f791a848eb62f1444c2c1b7234c3e9244444f9b89"
  },
  "kernelspec": {
   "display_name": "sp22",
   "language": "python",
   "name": "python3"
  },
  "language_info": {
   "codemirror_mode": {
    "name": "ipython",
    "version": 3
   },
   "file_extension": ".py",
   "mimetype": "text/x-python",
   "name": "python",
   "nbconvert_exporter": "python",
   "pygments_lexer": "ipython3",
   "version": "3.9.9"
  }
 },
 "nbformat": 4,
 "nbformat_minor": 5
}
