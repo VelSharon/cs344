{
 "cells": [
  {
   "cell_type": "markdown",
   "id": "96848edf",
   "metadata": {},
   "source": [
    "# Train Simple Image Classifier\n",
    "\n",
    "Task: Train a simple image classifier using cross-entropy loss"
   ]
  },
  {
   "cell_type": "markdown",
   "id": "900e7193",
   "metadata": {},
   "source": [
    "## Setup"
   ]
  },
  {
   "cell_type": "code",
   "execution_count": 1,
   "id": "abf51f02",
   "metadata": {},
   "outputs": [],
   "source": [
    "from fastai.vision.all import *\n",
    "from fastbook import *\n",
    "\n",
    "#matplotlib.rc('image', cmap='Greys')\n",
    "\n",
    "import sys\n",
    "if sys.platform == \"darwin\":\n",
    "    # https://stackoverflow.com/a/64855500/69707\n",
    "    import os\n",
    "    os.environ['OMP_NUM_THREADS'] = '1'"
   ]
  },
  {
   "cell_type": "markdown",
   "id": "5717f1e8",
   "metadata": {},
   "source": [
    "Load up the MNIST dataset. It has 10 digits."
   ]
  },
  {
   "cell_type": "code",
   "execution_count": 2,
   "id": "9095b4ae",
   "metadata": {},
   "outputs": [],
   "source": [
    "path = untar_data(URLs.MNIST)"
   ]
  },
  {
   "cell_type": "code",
   "execution_count": 3,
   "id": "cc727e84",
   "metadata": {},
   "outputs": [
    {
     "data": {
      "text/plain": [
       "Path('/Users/ka37/.fastai/data/mnist_png')"
      ]
     },
     "execution_count": 3,
     "metadata": {},
     "output_type": "execute_result"
    }
   ],
   "source": [
    "path"
   ]
  },
  {
   "cell_type": "code",
   "execution_count": 77,
   "id": "8392fed5",
   "metadata": {},
   "outputs": [],
   "source": [
    "set_seed(0)\n",
    "num_imgs_per = 500\n",
    "items = L([\n",
    "    p\n",
    "    for s in ['training', 'testing']\n",
    "    for digit in range(10)\n",
    "    for p in (path/s/str(digit)).ls().shuffle()[:num_imgs_per]\n",
    "])"
   ]
  },
  {
   "cell_type": "code",
   "execution_count": 78,
   "id": "a850997e",
   "metadata": {},
   "outputs": [],
   "source": [
    "block = DataBlock(\n",
    "    blocks=(ImageBlock(PILImageBW), CategoryBlock),\n",
    "    #get_y=lambda x: int(parent_label(x)),\n",
    "    get_y = parent_label,\n",
    "    splitter=GrandparentSplitter(train_name='training', valid_name=\"testing\"),\n",
    ")\n",
    "dataloaders = block.dataloaders(items, bs=16)\n",
    "images, labels = dataloaders.one_batch()"
   ]
  },
  {
   "cell_type": "code",
   "execution_count": 79,
   "id": "ec5b8f40",
   "metadata": {},
   "outputs": [
    {
     "data": {
      "image/png": "[encoded data removed]",
      "text/plain": [
       "<Figure size 648x648 with 9 Axes>"
      ]
     },
     "metadata": {
      "needs_background": "light"
     },
     "output_type": "display_data"
    }
   ],
   "source": [
    "dataloaders.train.show_batch()"
   ]
  },
  {
   "cell_type": "code",
   "execution_count": 80,
   "id": "8d3439f0",
   "metadata": {},
   "outputs": [
    {
     "data": {
      "text/plain": [
       "['0', '1', '2', '3', '4', '5', '6', '7', '8', '9']"
      ]
     },
     "execution_count": 80,
     "metadata": {},
     "output_type": "execute_result"
    }
   ],
   "source": [
    "dataloaders.train.vocab"
   ]
  },
  {
   "cell_type": "markdown",
   "id": "edee9e07",
   "metadata": {},
   "source": [
    "## Task\n",
    "\n"
   ]
  },
  {
   "cell_type": "code",
   "execution_count": 81,
   "id": "ca205bd4",
   "metadata": {},
   "outputs": [],
   "source": [
    "linear_1 = nn.Linear(in_features=784, out_features=10, bias=False)\n",
    "#relu_layer = nn.ReLU()\n",
    "#linear_2 = nn.Linear(in_features=30, out_features=10)"
   ]
  },
  {
   "cell_type": "markdown",
   "id": "90861399",
   "metadata": {},
   "source": [
    "Then we put them together in sequence."
   ]
  },
  {
   "cell_type": "code",
   "execution_count": 82,
   "id": "4502d4f6",
   "metadata": {},
   "outputs": [],
   "source": [
    "simple_net = nn.Sequential(\n",
    "    nn.Flatten(),\n",
    "    linear_1,\n",
    "    #relu_layer,\n",
    "    #linear_2\n",
    ")"
   ]
  },
  {
   "cell_type": "code",
   "execution_count": 83,
   "id": "69d16764",
   "metadata": {},
   "outputs": [],
   "source": [
    "images, labels = dataloaders.train.one_batch()"
   ]
  },
  {
   "cell_type": "code",
   "execution_count": 84,
   "id": "1b2368a8",
   "metadata": {},
   "outputs": [
    {
     "data": {
      "text/plain": [
       "torch.Size([16, 1, 28, 28])"
      ]
     },
     "execution_count": 84,
     "metadata": {},
     "output_type": "execute_result"
    }
   ],
   "source": [
    "images.shape"
   ]
  },
  {
   "cell_type": "code",
   "execution_count": 85,
   "id": "07a0cbd1",
   "metadata": {},
   "outputs": [
    {
     "data": {
      "text/plain": [
       "torch.Size([16, 10])"
      ]
     },
     "execution_count": 85,
     "metadata": {},
     "output_type": "execute_result"
    }
   ],
   "source": [
    "logits = simple_net(images)\n",
    "logits.shape"
   ]
  },
  {
   "cell_type": "code",
   "execution_count": 86,
   "id": "31fdf1c1",
   "metadata": {},
   "outputs": [],
   "source": [
    "TensorImageBW.register_func(F.cross_entropy, TensorImageBW, TensorCategory)"
   ]
  },
  {
   "cell_type": "code",
   "execution_count": 87,
   "id": "dd41ab3c",
   "metadata": {},
   "outputs": [
    {
     "data": {
      "text/plain": [
       "TensorImageBW([2.5593, 2.1114, 2.2406, 2.3652, 2.3240, 2.0326, 2.2824, 2.3135, 2.6814, 2.4579, 2.3630, 2.5342, 2.3509, 2.5255, 2.1803, 2.4751], grad_fn=<AliasBackward0>)"
      ]
     },
     "execution_count": 87,
     "metadata": {},
     "output_type": "execute_result"
    }
   ],
   "source": [
    "F.cross_entropy(logits, labels, reduction='none')"
   ]
  },
  {
   "cell_type": "code",
   "execution_count": 88,
   "id": "8d07f0de",
   "metadata": {},
   "outputs": [
    {
     "data": {
      "text/plain": [
       "2.3025850929940455"
      ]
     },
     "execution_count": 88,
     "metadata": {},
     "output_type": "execute_result"
    }
   ],
   "source": [
    "-np.log(.1)"
   ]
  },
  {
   "cell_type": "code",
   "execution_count": 93,
   "id": "429d4708",
   "metadata": {},
   "outputs": [],
   "source": [
    "learning_rate = 0.01\n",
    "losses = []\n",
    "for i in range(10):\n",
    "    for images, labels in dataloaders.train:\n",
    "        logits = simple_net(images)\n",
    "        loss = F.cross_entropy(logits, labels) # automatically takes the mean\n",
    "        loss.backward()\n",
    "        linear_1.weight.data -= learning_rate * linear_1.weight.grad\n",
    "        #linear_1.bias.data -= learning_rate * linear_1.bias.grad\n",
    "        simple_net.zero_grad()\n",
    "        losses.append(loss.item())"
   ]
  },
  {
   "cell_type": "code",
   "execution_count": 94,
   "id": "58fe7ad8",
   "metadata": {},
   "outputs": [
    {
     "data": {
      "text/plain": [
       "[<matplotlib.lines.Line2D at 0x12f225f10>]"
      ]
     },
     "execution_count": 94,
     "metadata": {},
     "output_type": "execute_result"
    },
    {
     "data": {
      "image/png": "[encoded data removed]",
      "text/plain": [
       "<Figure size 432x288 with 1 Axes>"
      ]
     },
     "metadata": {
      "needs_background": "light"
     },
     "output_type": "display_data"
    }
   ],
   "source": [
    "plt.plot(losses)"
   ]
  },
  {
   "cell_type": "code",
   "execution_count": 91,
   "id": "74a00589",
   "metadata": {},
   "outputs": [
    {
     "data": {
      "text/plain": [
       "torch.Size([10, 784])"
      ]
     },
     "execution_count": 91,
     "metadata": {},
     "output_type": "execute_result"
    }
   ],
   "source": [
    "linear_1.weight.shape"
   ]
  },
  {
   "cell_type": "code",
   "execution_count": 92,
   "id": "f6fbba61",
   "metadata": {},
   "outputs": [
    {
     "data": {
      "image/png": "[encoded data removed]",
      "text/plain": [
       "<Figure size 2160x216 with 10 Axes>"
      ]
     },
     "metadata": {
      "needs_background": "light"
     },
     "output_type": "display_data"
    }
   ],
   "source": [
    "show_images(linear_1.weight.data.view((10, 28, 28)))"
   ]
  },
  {
   "cell_type": "code",
   "execution_count": null,
   "id": "ba85587b",
   "metadata": {},
   "outputs": [],
   "source": []
  }
 ],
 "metadata": {
  "interpreter": {
   "hash": "e8f4b6a4c38f2085446f7f3f791a848eb62f1444c2c1b7234c3e9244444f9b89"
  },
  "kernelspec": {
   "display_name": "sp22",
   "language": "python",
   "name": "python3"
  },
  "language_info": {
   "codemirror_mode": {
    "name": "ipython",
    "version": 3
   },
   "file_extension": ".py",
   "mimetype": "text/x-python",
   "name": "python",
   "nbconvert_exporter": "python",
   "pygments_lexer": "ipython3",
   "version": "3.9.9"
  }
 },
 "nbformat": 4,
 "nbformat_minor": 5
}
